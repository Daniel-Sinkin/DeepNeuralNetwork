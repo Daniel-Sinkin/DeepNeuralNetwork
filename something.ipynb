{
 "cells": [
  {
   "cell_type": "code",
   "execution_count": 1,
   "metadata": {},
   "outputs": [],
   "source": [
    "import torch\n",
    "import numpy as np\n",
    "\n",
    "from src.tensor import Tensor"
   ]
  },
  {
   "cell_type": "code",
   "execution_count": 2,
   "metadata": {},
   "outputs": [],
   "source": [
    "lists: list[list[float]] = [\n",
    "    [\n",
    "        [1.0, 2.0, 3.0, 4.0, 5.0],\n",
    "        [-1.0, 2.0, -3.0, 4.0, -5.0]\n",
    "    ],\n",
    "    [\n",
    "        [-0.1, 0.2, -0.3, 0.4, -0.5],\n",
    "        [-0.01, 4, -3.7, 8.1, -13.5]\n",
    "    ]\n",
    "]\n",
    "arr: np.ndarray[np.float32] = np.array(lists).astype(np.float32)\n",
    "\n",
    "x = Tensor(arr)\n",
    "x_torch: torch.Tensor = torch.tensor(arr, requires_grad=True)\n",
    "\n",
    "_max: Tensor = x.max()\n",
    "_max_torch: torch.Tensor = x_torch.max()\n",
    "\n",
    "shifted_value = x - _max\n",
    "shifted_value_torch = x_torch - _max_torch\n",
    "\n",
    "exp_value = shifted_value.exp()\n",
    "exp_value_torch = shifted_value_torch.exp()\n",
    "\n",
    "row_reduce = exp_value.sum(axis=-1, keepdim=True)\n",
    "row_reduce_torch = exp_value_torch.sum(axis=-1, keepdim=True)\n",
    "\n",
    "z = row_reduce.sum()\n",
    "z_torch = row_reduce_torch.sum()\n",
    "\n",
    "z.backward()\n",
    "z_torch.backward()"
   ]
  },
  {
   "cell_type": "code",
   "execution_count": 3,
   "metadata": {},
   "outputs": [
    {
     "data": {
      "text/plain": [
       "(tensor([[1., 1., 1.],\n",
       "         [1., 1., 1.]]),\n",
       " array([[1., 1., 1.],\n",
       "        [1., 1., 1.]], dtype=float32))"
      ]
     },
     "execution_count": 3,
     "metadata": {},
     "output_type": "execute_result"
    }
   ],
   "source": [
    "x_vals: np.ndarray[np.float32] = np.array([[1, 2, 3], [4, 5, 6]]).astype(np.float32)\n",
    "\n",
    "x = Tensor(x_vals)\n",
    "x_torch = torch.tensor(x_vals, requires_grad=True)\n",
    "\n",
    "y = x.sum(axis = -1, keepdim=True)\n",
    "y_torch = x_torch.sum(axis = -1, keepdim=True)\n",
    "\n",
    "z = y.sum()\n",
    "z_torch = y_torch.sum()\n",
    "\n",
    "z.backward()\n",
    "z_torch.backward()\n",
    "\n",
    "x_torch.grad, x.grad"
   ]
  },
  {
   "cell_type": "code",
   "execution_count": 4,
   "metadata": {},
   "outputs": [
    {
     "data": {
      "text/plain": [
       "(Tensor([[ 6.],\n",
       "         [15.]]),\n",
       " tensor([[ 6.],\n",
       "         [15.]], grad_fn=<SumBackward1>))"
      ]
     },
     "execution_count": 4,
     "metadata": {},
     "output_type": "execute_result"
    }
   ],
   "source": [
    "y, y_torch"
   ]
  }
 ],
 "metadata": {
  "kernelspec": {
   "display_name": ".venv",
   "language": "python",
   "name": "python3"
  },
  "language_info": {
   "codemirror_mode": {
    "name": "ipython",
    "version": 3
   },
   "file_extension": ".py",
   "mimetype": "text/x-python",
   "name": "python",
   "nbconvert_exporter": "python",
   "pygments_lexer": "ipython3",
   "version": "3.12.2"
  }
 },
 "nbformat": 4,
 "nbformat_minor": 2
}
