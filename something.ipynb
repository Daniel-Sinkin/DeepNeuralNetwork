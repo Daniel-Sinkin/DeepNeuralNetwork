{
 "cells": [
  {
   "cell_type": "code",
   "execution_count": 1,
   "metadata": {},
   "outputs": [],
   "source": [
    "import torch\n",
    "import numpy as np\n",
    "\n",
    "from src.tensor import Tensor"
   ]
  },
  {
   "cell_type": "code",
   "execution_count": 9,
   "metadata": {},
   "outputs": [
    {
     "data": {
      "text/plain": [
       "array([[[-4.6624918e-02, -1.2673968e-01, -3.4451416e-01, -9.3648654e-01,\n",
       "         -2.5456345e+00],\n",
       "        [-2.3577623e-02, -4.7356921e-01, -3.1908841e-03, -3.4992294e+00,\n",
       "         -4.3183923e-04]],\n",
       "\n",
       "       [[-7.2891182e-01, -9.8392820e-01, -5.9678262e-01, -1.2017729e+00,\n",
       "         -4.8860437e-01],\n",
       "        [-1.1821197e-03, -6.5190218e-02, -2.9519906e-05,  1.2066401e+01,\n",
       "         -1.6369257e-09]]], dtype=float32)"
      ]
     },
     "execution_count": 9,
     "metadata": {},
     "output_type": "execute_result"
    }
   ],
   "source": [
    "lists: list[list[float]] = [\n",
    "    [\n",
    "        [1.0, 2.0, 3.0, 4.0, 5.0], [-1.0, 2.0, -3.0, 4.0, -5.0]\n",
    "    ],\n",
    "    [\n",
    "        [-0.1, 0.2, -0.3, 0.4, -0.5],[-0.01, 4, -3.7, 8.1, -13.5]\n",
    "    ]\n",
    "]\n",
    "arr: np.ndarray[np.float32] = np.array(lists).astype(np.float32)\n",
    "\n",
    "x = Tensor(arr)\n",
    "x_torch: torch.Tensor = torch.tensor(arr, requires_grad=True)\n",
    "\n",
    "y = x.softmax(axis = -1)\n",
    "y_torch = x_torch.softmax(dim = -1)\n",
    "\n",
    "z = y.sum()\n",
    "z_torch = y_torch.sum()\n",
    "\n",
    "z.backward()\n",
    "z_torch.backward()\n",
    "\n",
    "x.grad"
   ]
  },
  {
   "cell_type": "code",
   "execution_count": 10,
   "metadata": {},
   "outputs": [
    {
     "data": {
      "text/plain": [
       "tensor([[[0.0000e+00, 0.0000e+00, 0.0000e+00, 0.0000e+00, 0.0000e+00],\n",
       "         [0.0000e+00, 0.0000e+00, 0.0000e+00, 0.0000e+00, 0.0000e+00]],\n",
       "\n",
       "        [[0.0000e+00, 0.0000e+00, 0.0000e+00, 0.0000e+00, 0.0000e+00],\n",
       "         [1.7615e-11, 9.7141e-10, 4.3988e-13, 5.8615e-08, 2.4392e-17]]])"
      ]
     },
     "execution_count": 10,
     "metadata": {},
     "output_type": "execute_result"
    }
   ],
   "source": [
    "x_torch.grad"
   ]
  },
  {
   "cell_type": "code",
   "execution_count": null,
   "metadata": {},
   "outputs": [],
   "source": []
  }
 ],
 "metadata": {
  "kernelspec": {
   "display_name": ".venv",
   "language": "python",
   "name": "python3"
  },
  "language_info": {
   "codemirror_mode": {
    "name": "ipython",
    "version": 3
   },
   "file_extension": ".py",
   "mimetype": "text/x-python",
   "name": "python",
   "nbconvert_exporter": "python",
   "pygments_lexer": "ipython3",
   "version": "3.12.2"
  }
 },
 "nbformat": 4,
 "nbformat_minor": 2
}
