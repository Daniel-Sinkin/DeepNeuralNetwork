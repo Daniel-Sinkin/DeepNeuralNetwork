{
 "cells": [
  {
   "cell_type": "code",
   "execution_count": 1,
   "metadata": {},
   "outputs": [],
   "source": [
    "import numpy as np\n",
    "import torch\n",
    "\n",
    "from src.tensor import Tensor\n",
    "from src.nn import LinearLayer, ReLu, MLP\n",
    "\n",
    "import torch.nn\n",
    "\n",
    "_rng = np.random.default_rng(0x24)"
   ]
  },
  {
   "cell_type": "code",
   "execution_count": 3,
   "metadata": {},
   "outputs": [
    {
     "ename": "SyntaxError",
     "evalue": "incomplete input (3492429739.py, line 34)",
     "output_type": "error",
     "traceback": [
      "\u001b[0;36m  Cell \u001b[0;32mIn[3], line 34\u001b[0;36m\u001b[0m\n\u001b[0;31m    # assert np.allclose(layer.bias.grad, layer_pt.bias.grad)\u001b[0m\n\u001b[0m                                                             ^\u001b[0m\n\u001b[0;31mSyntaxError\u001b[0m\u001b[0;31m:\u001b[0m incomplete input\n"
     ]
    }
   ],
   "source": [
    "from src.tensor import Tensor\n",
    "\n",
    "\n",
    "data: np.ndarray[np.float32]= _rng.normal(3, 2.0, (13, 3)).astype(np.float32)\n",
    "\n",
    "X = Tensor(data)\n",
    "X_pt = torch.Tensor(data)\n",
    "\n",
    "mlp = MLP(3, (5,), 4, bias=True)\n",
    "mlp_pt = torch.nn.Sequential(torch.nn.Linear(3, 5, bias=True), torch.nn.Linear(5, 4, bias=True))\n",
    "\n",
    "layer = torch.nn.Linear(3, 5, bias=True)\n",
    "\n",
    "for layer, layer_pt in zip(mlp, mlp_pt):\n",
    "    layer_pt.weight = torch.nn.Parameter(\n",
    "        torch.Tensor(layer.weight.value), requires_grad=True\n",
    "    )\n",
    "    layer_pt.bias = torch.nn.Parameter(\n",
    "        torch.Tensor(layer.bias.value), requires_grad=True\n",
    "    ) \n",
    "\n",
    "y: Tensor = mlp(X)\n",
    "y_pt: torch.Tensor = mlp_pt(X_pt)\n",
    "\n",
    "z = y.sum()\n",
    "z_pt = y_pt.sum()\n",
    "\n",
    "z.backward()\n",
    "z_pt.backward()\n",
    "\n",
    "assert z == z_pt\n",
    "for layer, layer_pt in zip(mlp, mlp_pt): ...\n",
    "    # assert np.allclose(layer.weight.grad, layer_pt.weight.grad)\n",
    "    # assert np.allclose(layer.bias.grad, layer_pt.bias.grad)"
   ]
  },
  {
   "cell_type": "code",
   "execution_count": null,
   "metadata": {},
   "outputs": [],
   "source": []
  }
 ],
 "metadata": {
  "kernelspec": {
   "display_name": ".venv",
   "language": "python",
   "name": "python3"
  },
  "language_info": {
   "codemirror_mode": {
    "name": "ipython",
    "version": 3
   },
   "file_extension": ".py",
   "mimetype": "text/x-python",
   "name": "python",
   "nbconvert_exporter": "python",
   "pygments_lexer": "ipython3",
   "version": "3.12.2"
  }
 },
 "nbformat": 4,
 "nbformat_minor": 2
}
