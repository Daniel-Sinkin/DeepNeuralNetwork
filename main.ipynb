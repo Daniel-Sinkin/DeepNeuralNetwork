{
 "cells": [
  {
   "cell_type": "code",
   "execution_count": null,
   "metadata": {},
   "outputs": [],
   "source": [
    "import numpy as np\n",
    "import torch\n",
    "\n",
    "from typing import Optional\n",
    "\n",
    "from src.tensor import Tensor"
   ]
  },
  {
   "cell_type": "code",
   "execution_count": null,
   "metadata": {},
   "outputs": [],
   "source": [
    "from typing import Self\n",
    "from src.tensor import Tensor\n",
    "\n",
    "class DataLoader:\n",
    "    def __init__(self, data: np.ndarray | Tensor, batchsize: int, shuffle: bool = False, shuffle_seed: Optional[int] = None):\n",
    "        if isinstance(data, Tensor):\n",
    "            self.data: np.ndarray = data.value.copy()\n",
    "        elif isinstance(data, np.ndarray):\n",
    "            self.data: np.ndarray = data.copy()\n",
    "        elif isinstance(data, list):\n",
    "            self.data: np.ndarray = np.array(data)\n",
    "        else:\n",
    "            raise TypeError(f\"Data type {type(data)} not supported\")\n",
    "\n",
    "        if shuffle:\n",
    "            _rng: np.random.Generator = np.random.default_rng(shuffle_seed)\n",
    "            _rng.shuffle(self.data)\n",
    "    \n",
    "        self.batchsize: int = batchsize\n",
    "        self.idx = 0\n",
    "\n",
    "    def __getitem__(self, idx) -> Tensor:\n",
    "        if idx * self.batchsize >= len(self.data):\n",
    "            raise IndexError(f\"Index out of bounds, you're picking the {idx}. batch not the {idx} element of the data!\")\n",
    "        # Note that we don't have to clamp `(idx + 1) * self.batchsize` because numpy does that for us\n",
    "        return Tensor(self.data[idx * self.batchsize:(idx + 1) * self.batchsize])\n",
    "\n",
    "    def __iter__(self) -> Self:\n",
    "        return self\n",
    "\n",
    "    def __next__(self) -> Tensor:\n",
    "        if self.idx >= len(self.data):\n",
    "            raise StopIteration\n",
    "        batch = self.data[self.idx:self.idx+self.batchsize]\n",
    "        self.idx += self.batchsize\n",
    "        return Tensor(batch)"
   ]
  },
  {
   "cell_type": "code",
   "execution_count": null,
   "metadata": {},
   "outputs": [],
   "source": [
    "_rng = np.random.default_rng(0x42)\n",
    "data: np.ndarray[np.float32] = _rng.normal(3, 2, size=(16, 4)).astype(np.float32)\n",
    "batchsize = 4\n",
    "\n",
    "dl = DataLoader(data, batchsize, shuffle=True, shuffle_seed=0x42)"
   ]
  },
  {
   "cell_type": "code",
   "execution_count": null,
   "metadata": {},
   "outputs": [],
   "source": [
    "for batch in dl:\n",
    "    print(batch)"
   ]
  },
  {
   "cell_type": "code",
   "execution_count": null,
   "metadata": {},
   "outputs": [],
   "source": [
    "import numpy as np\n",
    "import torch\n",
    "\n",
    "from typing import Optional, Self\n",
    "\n",
    "from src.tensor import Tensor\n",
    "from src.data import DataLoader\n",
    "\n",
    "SEED = 0x42\n",
    "\n",
    "_rng = np.random.default_rng(SEED)\n",
    "data: np.ndarray[np.float32] = _rng.normal(3, 2, size=(18, 6)).astype(np.float32)\n",
    "batchsize = 32\n",
    "\n",
    "dl_not_shuffled = DataLoader(data, batchsize, shuffle=False)\n",
    "\n",
    "for idx, batch in enumerate(dl_not_shuffled):\n",
    "    print(idx)\n",
    "    print(batch)"
   ]
  },
  {
   "cell_type": "code",
   "execution_count": null,
   "metadata": {},
   "outputs": [
    {
     "ename": "",
     "evalue": "",
     "output_type": "error",
     "traceback": [
      "\u001b[1;31mThe Kernel crashed while executing code in the current cell or a previous cell. \n",
      "\u001b[1;31mPlease review the code in the cell(s) to identify a possible cause of the failure. \n",
      "\u001b[1;31mClick <a href='https://aka.ms/vscodeJupyterKernelCrash'>here</a> for more info. \n",
      "\u001b[1;31mView Jupyter <a href='command:jupyter.viewOutput'>log</a> for further details."
     ]
    }
   ],
   "source": [
    "_rng = np.random.default_rng(SEED)\n",
    "data: np.ndarray[np.float32] = _rng.normal(3, 2, size=(16, 6)).astype(np.float32)\n",
    "batchsize = 4\n",
    "\n",
    "dl_not_shuffled = DataLoader(data, batchsize, shuffle=False)\n",
    "\n",
    "for idx, batch in enumerate(dl_not_shuffled):\n",
    "    print(idx)\n",
    "    print(batch)\n",
    "    print()"
   ]
  },
  {
   "cell_type": "code",
   "execution_count": null,
   "metadata": {},
   "outputs": [],
   "source": [
    "from enum import StrEnum\n",
    "\n",
    "from src.data import Data\n",
    "\n",
    "class StatlearningNames(StrEnum):\n",
    "    Advertising = \"Advertising\"\n",
    "    Auto = \"Auto\"\n",
    "    College = \"College\"\n",
    "    Ch12Ex13 = \"Ch12Ex13\"\n",
    "    Credit = \"Credit\"\n",
    "    Heart = \"Heart\"\n",
    "    Income1 = \"Income1\"\n",
    "    Incomev = \"Incomev\"\n",
    "\n",
    "\n",
    "class Statlearning(Data):\n",
    "    def __init__(self, data: np.ndarray | Tensor, name: Optional[str] = None):\n",
    "        if name not in [name.value for name in StatlearningNames]:\n",
    "            raise ValueError(f\"Name {name} not in Statlearning datasets\")\n",
    "\n",
    "        super().__init__(data, name)\n",
    "\n",
    "        self.url = f\"https://www.statlearning.com/s/{self.name}.csv\""
   ]
  }
 ],
 "metadata": {
  "kernelspec": {
   "display_name": ".venv",
   "language": "python",
   "name": "python3"
  },
  "language_info": {
   "codemirror_mode": {
    "name": "ipython",
    "version": 3
   },
   "file_extension": ".py",
   "mimetype": "text/x-python",
   "name": "python",
   "nbconvert_exporter": "python",
   "pygments_lexer": "ipython3",
   "version": "3.12.2"
  }
 },
 "nbformat": 4,
 "nbformat_minor": 2
}
