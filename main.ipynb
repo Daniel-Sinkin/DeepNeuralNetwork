{
 "cells": [
  {
   "cell_type": "code",
   "execution_count": 1,
   "metadata": {},
   "outputs": [],
   "source": [
    "import numpy as np\n",
    "import torch\n",
    "\n",
    "from src.tensor import Tensor\n",
    "from src.nn import LinearLayer, ReLu, MLP\n",
    "\n",
    "import torch.nn\n",
    "\n",
    "_rng = np.random.default_rng(0x24)"
   ]
  },
  {
   "cell_type": "code",
   "execution_count": 2,
   "metadata": {},
   "outputs": [],
   "source": [
    "from src.tensor import Tensor\n",
    "\n",
    "\n",
    "data: np.ndarray[np.float32]= _rng.normal(3, 2.0, (13, 3)).astype(np.float32)\n",
    "\n",
    "X = Tensor(data)\n",
    "X_pt = torch.Tensor(data)\n",
    "\n",
    "mlp = MLP(3, (5,), 4, bias=True)\n",
    "mlp_pt = torch.nn.Sequential(torch.nn.Linear(3, 5, bias=True), torch.nn.Linear(5, 4, bias=True))\n",
    "\n",
    "layer = torch.nn.Linear(3, 5, bias=True)\n",
    "\n",
    "for layer, layer_pt in zip(mlp, mlp_pt):\n",
    "    layer_pt.weight = torch.nn.Parameter(\n",
    "        torch.Tensor(layer.weight.value), requires_grad=True\n",
    "    )\n",
    "    layer_pt.bias = torch.nn.Parameter(\n",
    "        torch.Tensor(layer.bias.value), requires_grad=True\n",
    "    ) \n",
    "\n",
    "y: Tensor = mlp(X)\n",
    "y_pt: torch.Tensor = mlp_pt(X_pt)\n",
    "\n",
    "z = y.sum()\n",
    "z_pt = y_pt.sum()\n",
    "\n",
    "z.backward()\n",
    "z_pt.backward()\n",
    "\n",
    "assert z == z_pt\n",
    "for layer, layer_pt in zip(mlp, mlp_pt): ...\n",
    "    # assert np.allclose(layer.weight.grad, layer_pt.weight.grad)\n",
    "    # assert np.allclose(layer.bias.grad, layer_pt.bias.grad)"
   ]
  },
  {
   "cell_type": "code",
   "execution_count": 3,
   "metadata": {},
   "outputs": [
    {
     "data": {
      "text/plain": [
       "(array([[ 0.00837736,  0.01257436, -0.02600507, -0.04250882,  0.03837651],\n",
       "        [ 0.00837736,  0.01257436, -0.02600507, -0.04250882,  0.03837651],\n",
       "        [ 0.00837736,  0.01257436, -0.02600507, -0.04250882,  0.03837651],\n",
       "        [ 0.00837736,  0.01257436, -0.02600507, -0.04250882,  0.03837651],\n",
       "        [ 0.00837736,  0.01257436, -0.02600507, -0.04250882,  0.03837651],\n",
       "        [ 0.00837736,  0.01257436, -0.02600507, -0.04250882,  0.03837651],\n",
       "        [ 0.00837736,  0.01257436, -0.02600507, -0.04250882,  0.03837651],\n",
       "        [ 0.00837736,  0.01257436, -0.02600507, -0.04250882,  0.03837651],\n",
       "        [ 0.00837736,  0.01257436, -0.02600507, -0.04250882,  0.03837651],\n",
       "        [ 0.00837736,  0.01257436, -0.02600507, -0.04250882,  0.03837651],\n",
       "        [ 0.00837736,  0.01257436, -0.02600507, -0.04250882,  0.03837651],\n",
       "        [ 0.00837736,  0.01257436, -0.02600507, -0.04250882,  0.03837651],\n",
       "        [ 0.00837736,  0.01257436, -0.02600507, -0.04250882,  0.03837651]],\n",
       "       dtype=float32),\n",
       " tensor([ 0.1089,  0.1635, -0.3381, -0.5526,  0.4989]))"
      ]
     },
     "execution_count": 3,
     "metadata": {},
     "output_type": "execute_result"
    }
   ],
   "source": []
  },
  {
   "cell_type": "code",
   "execution_count": 4,
   "metadata": {},
   "outputs": [
    {
     "data": {
      "text/plain": [
       "Tensor([-0.00993719, -0.01305262, -0.0108083 ,  0.00761572,  0.00190878],\n",
       "       dtype=float32)"
      ]
     },
     "execution_count": 4,
     "metadata": {},
     "output_type": "execute_result"
    }
   ],
   "source": [
    "mlp[0].bias"
   ]
  },
  {
   "cell_type": "code",
   "execution_count": 5,
   "metadata": {},
   "outputs": [
    {
     "data": {
      "text/plain": [
       "0.10890568"
      ]
     },
     "execution_count": 5,
     "metadata": {},
     "output_type": "execute_result"
    }
   ],
   "source": [
    "0.00837736 * 13"
   ]
  },
  {
   "cell_type": "code",
   "execution_count": null,
   "metadata": {},
   "outputs": [],
   "source": []
  }
 ],
 "metadata": {
  "kernelspec": {
   "display_name": ".venv",
   "language": "python",
   "name": "python3"
  },
  "language_info": {
   "codemirror_mode": {
    "name": "ipython",
    "version": 3
   },
   "file_extension": ".py",
   "mimetype": "text/x-python",
   "name": "python",
   "nbconvert_exporter": "python",
   "pygments_lexer": "ipython3",
   "version": "3.12.2"
  }
 },
 "nbformat": 4,
 "nbformat_minor": 2
}
