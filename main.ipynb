{
 "cells": [
  {
   "cell_type": "code",
   "execution_count": 1,
   "metadata": {},
   "outputs": [],
   "source": [
    "import numpy as np\n",
    "import torch"
   ]
  },
  {
   "cell_type": "code",
   "execution_count": 39,
   "metadata": {},
   "outputs": [],
   "source": [
    "a: torch.Tensor = torch.tensor(np.array([1]).astype(np.float32), requires_grad=True)\n",
    "\n",
    "v1: torch.Tensor = a.exp()\n",
    "v2: torch.Tensor = a.sin()\n",
    "v3: torch.Tensor = v1 + v2\n",
    "\n",
    "# Forward propagation pass to verify values\n",
    "with torch.no_grad():\n",
    "    dv1: torch.Tensor = a.exp()\n",
    "    dv2: torch.Tensor = a.cos()\n",
    "    dv3: torch.Tensor = dv1 + dv2\n",
    "\n",
    "v1.retain_grad()\n",
    "v2.retain_grad()\n",
    "v3.retain_grad()\n",
    "\n",
    "v3.backward()\n",
    "assert dv3 == a.grad"
   ]
  },
  {
   "cell_type": "code",
   "execution_count": 4,
   "metadata": {},
   "outputs": [],
   "source": [
    "a: torch.Tensor = torch.tensor(np.array([1]).astype(np.float32), requires_grad=True)\n",
    "\n",
    "v1: torch.Tensor = a.exp()\n",
    "v2: torch.Tensor = a.sin()\n",
    "v3: torch.Tensor = v1 * v2\n",
    "\n",
    "# Forward propagation pass to verify values\n",
    "with torch.no_grad():\n",
    "    dv1: torch.Tensor = a.exp()\n",
    "    dv2: torch.Tensor = a.cos()\n",
    "    dv3: torch.Tensor = dv1 * v2 + dv2 * v1\n",
    "\n",
    "v1.retain_grad()\n",
    "v2.retain_grad()\n",
    "v3.retain_grad()\n",
    "\n",
    "v3.backward()\n",
    "assert dv3 == a.grad"
   ]
  },
  {
   "cell_type": "code",
   "execution_count": 38,
   "metadata": {},
   "outputs": [],
   "source": [
    "a: torch.Tensor = torch.tensor(np.array([[1, 2.3, -7.3], [0, -5.2, 1.7]]).astype(np.float32), requires_grad=True)\n",
    "\n",
    "v1: torch.Tensor = a.exp()\n",
    "v2: torch.Tensor = a.sin()\n",
    "v3: torch.Tensor = v1 * v2\n",
    "v4: torch.Tensor = v3 ** 2\n",
    "v5: torch.Tensor = v4.sum()\n",
    "\n",
    "# Forward propagation pass to verify values\n",
    "with torch.no_grad():\n",
    "    dv1: torch.Tensor = a.exp()\n",
    "    dv2: torch.Tensor = a.cos()\n",
    "    dv3: torch.Tensor = dv1 * v2 + v1 * dv2\n",
    "    dv4: torch.Tensor = 2 * v3 * dv3\n",
    "    dv5: torch.Tensor = 1 * dv4\n",
    "\n",
    "v5.backward()\n",
    "assert torch.allclose(a.grad, dv5)"
   ]
  },
  {
   "cell_type": "code",
   "execution_count": 48,
   "metadata": {},
   "outputs": [
    {
     "data": {
      "text/plain": [
       "PowBackward0"
      ]
     },
     "execution_count": 48,
     "metadata": {},
     "output_type": "execute_result"
    }
   ],
   "source": [
    "a: torch.Tensor = torch.tensor(np.array([[1, 2.3, -7.3], [0, -5.2, 1.7]]).astype(np.float32), requires_grad=True)\n",
    "\n",
    "intermediate_steps: list[torch.Tensor] = []\n"
   ]
  },
  {
   "cell_type": "code",
   "execution_count": null,
   "metadata": {},
   "outputs": [],
   "source": []
  }
 ],
 "metadata": {
  "kernelspec": {
   "display_name": ".venv",
   "language": "python",
   "name": "python3"
  },
  "language_info": {
   "codemirror_mode": {
    "name": "ipython",
    "version": 3
   },
   "file_extension": ".py",
   "mimetype": "text/x-python",
   "name": "python",
   "nbconvert_exporter": "python",
   "pygments_lexer": "ipython3",
   "version": "3.12.2"
  }
 },
 "nbformat": 4,
 "nbformat_minor": 2
}
