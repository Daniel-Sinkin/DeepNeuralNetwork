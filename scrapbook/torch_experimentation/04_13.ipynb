{
 "cells": [
  {
   "cell_type": "code",
   "execution_count": null,
   "metadata": {},
   "outputs": [],
   "source": [
    "import numpy as np\n",
    "import pandas as pd\n",
    "\n",
    "import matplotlib.pyplot as plt\n",
    "\n",
    "import sklearn\n",
    "import sklearn.discriminant_analysis\n",
    "import sklearn.datasets"
   ]
  },
  {
   "cell_type": "code",
   "execution_count": null,
   "metadata": {},
   "outputs": [],
   "source": [
    "n = 500\n",
    "pct_test = 0.2\n",
    "n_train = int(n*(1-pct_test))\n",
    "\n",
    "X, y = sklearn.datasets.make_moons(500, shuffle=True, noise=0.3, random_state=0x2024_04_24)\n",
    "X_train: np.ndarray = X[:n_train]\n",
    "y_train: np.ndarray = y[:n_train]\n",
    "\n",
    "X_test: np.ndarray = X[n_train:]\n",
    "y_test: np.ndarray = y[n_train:]\n",
    "\n",
    "colors = np.where(y == 0, \"red\", \"blue\")\n",
    "plt.scatter(X[:, 0], X[:, 1], c=colors)"
   ]
  },
  {
   "cell_type": "code",
   "execution_count": null,
   "metadata": {},
   "outputs": [],
   "source": [
    "qda = sklearn.discriminant_analysis.QuadraticDiscriminantAnalysis(store_covariance=True)\n",
    "qda.fit(X_train, y_train)"
   ]
  },
  {
   "cell_type": "code",
   "execution_count": null,
   "metadata": {},
   "outputs": [],
   "source": [
    "np.mean(qda.predict(X_test) == y_test)"
   ]
  },
  {
   "cell_type": "code",
   "execution_count": null,
   "metadata": {},
   "outputs": [],
   "source": [
    "from sklearn.naive_bayes import GaussianNB\n",
    "from sklearn.neighbors import KNeighborsClassifier\n",
    "gnb = GaussianNB()\n",
    "gnb.fit(X_train, y_train)\n",
    "\n",
    "# Step 2: Generate a grid of points\n",
    "x_min, x_max = X_train[:, 0].min() - 1, X_train[:, 0].max() + 1\n",
    "y_min, y_max = X_train[:, 1].min() - 1, X_train[:, 1].max() + 1\n",
    "xx, yy = np.meshgrid(np.linspace(x_min, x_max, 500),\n",
    "                     np.linspace(y_min, y_max, 500))\n",
    "\n",
    "# Step 3: Predict over the grid\n",
    "Z = gnb.predict(np.c_[xx.ravel(), yy.ravel()])\n",
    "Z = Z.reshape(xx.shape)\n",
    "\n",
    "# Step 4: Plot the decision boundary\n",
    "plt.contourf(xx, yy, Z, alpha=0.5)\n",
    "plt.scatter(X_train[:, 0], X_train[:, 1], c=y_train, edgecolors='k')\n",
    "plt.title(\"QDA Decision Boundary\")\n",
    "plt.xlabel(\"Feature 1\")\n",
    "plt.ylabel(\"Feature 2\")\n",
    "plt.show()"
   ]
  },
  {
   "cell_type": "code",
   "execution_count": null,
   "metadata": {},
   "outputs": [],
   "source": []
  },
  {
   "cell_type": "code",
   "execution_count": null,
   "metadata": {},
   "outputs": [],
   "source": []
  },
  {
   "cell_type": "code",
   "execution_count": null,
   "metadata": {},
   "outputs": [],
   "source": [
    "gnb.predict(X_test)"
   ]
  },
  {
   "cell_type": "code",
   "execution_count": null,
   "metadata": {},
   "outputs": [],
   "source": [
    "import torch\n",
    "import torch.nn as nn"
   ]
  },
  {
   "cell_type": "code",
   "execution_count": null,
   "metadata": {},
   "outputs": [],
   "source": [
    "X_train.shape, y_train.shape"
   ]
  },
  {
   "cell_type": "code",
   "execution_count": null,
   "metadata": {},
   "outputs": [],
   "source": [
    "import torch\n",
    "import torch.nn as nn\n",
    "import torch.optim as optim\n",
    "from torch.utils.data import TensorDataset, DataLoader\n",
    "\n",
    "n = 1_000 \n",
    "pct_test = 0.2\n",
    "n_train = int(n*(1-pct_test))\n",
    "\n",
    "X, y = sklearn.datasets.make_moons(n, shuffle=True, noise=0.35, random_state=0x2024_04_24)\n",
    "X_train: np.ndarray = X[:n_train]\n",
    "y_train: np.ndarray = y[:n_train]\n",
    "\n",
    "X_test: np.ndarray = X[n_train:]\n",
    "y_test: np.ndarray = y[n_train:]\n",
    "\n",
    "colors = np.where(y == 0, \"red\", \"blue\")\n",
    "\n",
    "# Assuming X_train and y_train are available as NumPy arrays\n",
    "X_train_tensor: torch.Tensor = torch.tensor(X_train, dtype=torch.float32)\n",
    "y_train_tensor: torch.Tensor = torch.tensor(y_train, dtype=torch.long)\n",
    "\n",
    "# Create a dataset and data loader\n",
    "dataset = TensorDataset(X_train_tensor, y_train_tensor)\n",
    "train_loader = DataLoader(dataset, batch_size=10, shuffle=True)  # You can adjust batch size\n",
    "\n",
    "model = nn.Sequential(\n",
    "    nn.LazyLinear(50),\n",
    "    nn.ReLU(),\n",
    "    nn.Linear(50, 2),\n",
    "    nn.Softmax(dim = 1), \n",
    ")\n",
    "criterion = nn.CrossEntropyLoss()\n",
    "optimizer = optim.Adam(model.parameters(), lr=0.001)  # Adjust the learning rate as needed\n",
    "\n",
    "num_epochs = 100  # Define the number of epochs\n",
    "\n",
    "losses = []\n",
    "for epoch in range(num_epochs):\n",
    "    for inputs, labels in train_loader:\n",
    "        optimizer.zero_grad()  # Reset gradients to zero for each batch\n",
    "        outputs = model(inputs)\n",
    "        loss = criterion(outputs, labels)\n",
    "        loss.backward()  # Backpropagate the error\n",
    "        optimizer.step()  # Adjust weights\n",
    "\n",
    "    print(f'Epoch {epoch+1}, Loss: {loss.item()}')\n",
    "\n",
    "plt.plot(range(len(losses)), losses)"
   ]
  },
  {
   "cell_type": "code",
   "execution_count": null,
   "metadata": {},
   "outputs": [],
   "source": [
    "model = nn.Sequential(\n",
    "    nn.LazyLinear(50),\n",
    "    nn.ReLU(),\n",
    "    nn.Linear(50, 2),\n",
    ")"
   ]
  },
  {
   "cell_type": "code",
   "execution_count": null,
   "metadata": {},
   "outputs": [],
   "source": [
    "import torch\n",
    "import torch.nn as nn\n",
    "import torch.optim as optim\n",
    "from torch.utils.data import TensorDataset, DataLoader\n",
    "import numpy as np\n",
    "import sklearn.datasets\n",
    "\n",
    "import itertools\n",
    "\n",
    "for i, (n, num_epochs, num_nodes) in enumerate(itertools.product([1000], [100], [1, 2, 5, 25, 50, 100])):\n",
    "    print(f\"Running experiment {i+1} ({i / 27*100:.2f}% done)\")\n",
    "    print(f\"{(n, num_epochs, num_nodes)=}\")\n",
    "    pct_test = 0.2\n",
    "    n_train = int(n * (1 - pct_test))\n",
    "    # X, y = sklearn.datasets.make_moons(n, shuffle=True, noise=0.35, random_state=0x20240424)\n",
    "    X, y = sklearn.datasets.make_circles(n)\n",
    "    X_train: np.ndarray = X[:n_train]\n",
    "    y_train: np.ndarray = y[:n_train]\n",
    "    X_test: np.ndarray = X[n_train:]\n",
    "    y_test: np.ndarray = y[n_train:]\n",
    "\n",
    "    # Converting to tensors\n",
    "    X_train_tensor = torch.tensor(X_train, dtype=torch.float32)\n",
    "    y_train_tensor = torch.tensor(y_train, dtype=torch.long)\n",
    "    X_test_tensor = torch.tensor(X_test, dtype=torch.float32)\n",
    "    y_test_tensor = torch.tensor(y_test, dtype=torch.long)\n",
    "\n",
    "    # DataLoader setup\n",
    "    dataset = TensorDataset(X_train_tensor, y_train_tensor)\n",
    "    train_loader = DataLoader(dataset, batch_size=10, shuffle=True)\n",
    "\n",
    "    # Model definition\n",
    "    model = nn.Sequential(\n",
    "        nn.LazyLinear(num_nodes),\n",
    "        nn.ReLU(),\n",
    "        nn.LazyLinear(2)\n",
    "    )\n",
    "\n",
    "    # Loss function and optimizer\n",
    "    loss_fn = nn.CrossEntropyLoss()\n",
    "    optimizer = optim.SGD(model.parameters(), lr=0.1)\n",
    "\n",
    "    # Training function\n",
    "    def train(model, train_loader, loss_fn, optimizer, num_epochs=num_epochs):\n",
    "        model.train()\n",
    "        for epoch in range(num_epochs):\n",
    "            for batch, (X_batch, y_batch) in enumerate(train_loader):\n",
    "                pred = model(X_batch)\n",
    "                loss = loss_fn(pred, y_batch)\n",
    "\n",
    "                optimizer.zero_grad()\n",
    "                loss.backward()\n",
    "                optimizer.step()\n",
    "\n",
    "    # Evaluation function\n",
    "    def evaluate(model, X_test_tensor, y_test_tensor):\n",
    "        model.eval()\n",
    "        with torch.no_grad():\n",
    "            predictions = model(X_test_tensor)\n",
    "            predicted_classes = predictions.argmax(1)\n",
    "            accuracy = (predicted_classes == y_test_tensor).type(torch.float32).mean().item()\n",
    "        return accuracy\n",
    "\n",
    "    # Running the training and evaluation\n",
    "    train(model, train_loader, loss_fn, optimizer, num_epochs=50)\n",
    "    accuracy = evaluate(model, X_test_tensor, y_test_tensor)\n",
    "    print(f\"Test Accuracy: {accuracy * 100:.2f}%\")\n",
    "\n",
    "    import numpy as np\n",
    "    import matplotlib.pyplot as plt\n",
    "    import torch\n",
    "\n",
    "    # Dataset\n",
    "    colors = np.where(y == 0, 'red', 'blue')\n",
    "\n",
    "    # Create a mesh grid for the decision boundary\n",
    "    x_min, x_max = X[:, 0].min() - 0.5, X[:, 0].max() + 0.5\n",
    "    y_min, y_max = X[:, 1].min() - 0.5, X[:, 1].max() + 0.5\n",
    "    xx, yy = np.meshgrid(np.linspace(x_min, x_max, 100), np.linspace(y_min, y_max, 100))\n",
    "    grid = np.c_[xx.ravel(), yy.ravel()]\n",
    "    grid_tensor = torch.tensor(grid, dtype=torch.float32)\n",
    "\n",
    "    # Predict over the grid\n",
    "    model.eval()\n",
    "    with torch.no_grad():\n",
    "        preds = model(grid_tensor)\n",
    "        preds = preds.argmax(1).numpy()\n",
    "\n",
    "    # Plotting\n",
    "    plt.figure(figsize=(10, 6))\n",
    "    plt.scatter(X[:, 0], X[:, 1], c=colors, edgecolors='k')\n",
    "    contour = plt.contourf(xx, yy, preds.reshape(xx.shape), alpha=0.5, levels=np.arange(3)-0.5, colors=['red', 'blue'])\n",
    "    plt.title(f\"{n=}, {num_epochs=}, {num_nodes=}\")\n",
    "    plt.xlabel(\"Feature 1\")\n",
    "    plt.ylabel(\"Feature 2\")\n",
    "    plt.grid(True)\n",
    "    plt.savefig(f\"moon_{n}_{num_epochs}_{num_nodes}.png\")"
   ]
  },
  {
   "cell_type": "code",
   "execution_count": null,
   "metadata": {},
   "outputs": [],
   "source": [
    "X, y = make_moons(n, shuffle=True, noise=0.35, random_state=0x20240424)"
   ]
  },
  {
   "cell_type": "code",
   "execution_count": null,
   "metadata": {},
   "outputs": [],
   "source": [
    "X, y = sklearn.datasets.make_circles(100)"
   ]
  },
  {
   "cell_type": "code",
   "execution_count": null,
   "metadata": {},
   "outputs": [],
   "source": [
    "plt.scatter(X[:, 0], X[:, 1], c=y)"
   ]
  },
  {
   "cell_type": "code",
   "execution_count": null,
   "metadata": {},
   "outputs": [],
   "source": []
  }
 ],
 "metadata": {
  "kernelspec": {
   "display_name": ".venv",
   "language": "python",
   "name": "python3"
  },
  "language_info": {
   "codemirror_mode": {
    "name": "ipython",
    "version": 3
   },
   "file_extension": ".py",
   "mimetype": "text/x-python",
   "name": "python",
   "nbconvert_exporter": "python",
   "pygments_lexer": "ipython3",
   "version": "3.12.2"
  }
 },
 "nbformat": 4,
 "nbformat_minor": 2
}
